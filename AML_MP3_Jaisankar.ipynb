{
  "nbformat": 4,
  "nbformat_minor": 0,
  "metadata": {
    "colab": {
      "name": "AML_MP3_Jaisankar_Main1.ipynb",
      "provenance": [],
      "collapsed_sections": []
    },
    "kernelspec": {
      "display_name": "Python 3",
      "language": "python",
      "name": "python3"
    },
    "language_info": {
      "codemirror_mode": {
        "name": "ipython",
        "version": 3
      },
      "file_extension": ".py",
      "mimetype": "text/x-python",
      "name": "python",
      "nbconvert_exporter": "python",
      "pygments_lexer": "ipython3",
      "version": "3.6.9"
    },
    "accelerator": "GPU"
  },
  "cells": [
    {
      "cell_type": "markdown",
      "metadata": {
        "id": "ccDPllcwTVza"
      },
      "source": [
        "# MP3: Deep Fast Image Recognition\n",
        "\n",
        "Date: 2021.11.26\n",
        "\n",
        "Solution author: © 2021 [Muruganantham Jaisankar](jaimuruganantham)  \n",
        "Template author: © 2021 [Mantas Lukoševičius](https://mantas.info/)\n",
        "\n",
        "This notebook is part of an individual project for [KTU IF](https://fi.ktu.edu/)  [P176M010 Advanced Machine Learning](https://admissions.ktu.edu/programme/m-software-engineering/#P176M010) class led by [M. Lukoševičius](http://mantas.info/).\n",
        "\n",
        "You should only eddit this notebook where it is allowed, comment on all of your improvements in markdown cells and in your presentation.\n",
        "\n",
        "The goal is to train a [pytorch](https://pytorch.org/)-based [CIFAR-10](https://www.cs.toronto.edu/~kriz/cifar.html) classifier in under 3 minutes for maximum classification accuracy.\n",
        "\n",
        "This template is partially based on [this tutorial](https://pytorch.org/tutorials/beginner/blitz/cifar10_tutorial.html). \n",
        "\n",
        "The performance will be measured on *Tesla K80* graphics card on Google Colab machines. You should select GPU in Google Colab: *Runtime -> Change runtime type -> Hardware accelerator: GPU*.\n"
      ]
    },
    {
      "cell_type": "code",
      "metadata": {
        "id": "3U0gT-G-zVvX"
      },
      "source": [
        "import torch\n",
        "import torch.nn as nn\n",
        "import torch.nn.functional as F\n",
        "import torchvision\n",
        "import torchvision.transforms as transforms\n",
        "import numpy as np"
      ],
      "execution_count": null,
      "outputs": []
    },
    {
      "cell_type": "markdown",
      "metadata": {
        "id": "lA3k3yPpGgOO"
      },
      "source": [
        "## Settings\n",
        "\n",
        "Do not eddit!\n",
        "\n",
        "On the reproducibility of experiments: https://pytorch.org/docs/stable/notes/randomness.html"
      ]
    },
    {
      "cell_type": "code",
      "metadata": {
        "id": "s5dWi0-1TfWX"
      },
      "source": [
        "## compute accuracy\n",
        "def get_accuracy(logit, target, batch_size):\n",
        "    ''' Obtain accuracy '''\n",
        "    corrects = (torch.max(logit, 1)[1].view(target.size()).data == target.data).sum()\n",
        "    accuracy = 1.0*corrects / batch_size\n",
        "    return accuracy.item()\n",
        "np.random.seed(42)\n",
        "torch.manual_seed(42)\n",
        "torch.backends.cudnn.deterministic = True\n",
        "torch.backends.cudnn.benchmark = False"
      ],
      "execution_count": null,
      "outputs": []
    },
    {
      "cell_type": "markdown",
      "metadata": {
        "id": "zj4Gac5npZdG"
      },
      "source": [
        "## Information on the obtained hardware"
      ]
    },
    {
      "cell_type": "code",
      "metadata": {
        "id": "tZCpG0E5pTL7",
        "scrolled": true,
        "colab": {
          "base_uri": "https://localhost:8080/"
        },
        "outputId": "e731da0b-053c-4725-d5ee-35ef7d59c963"
      },
      "source": [
        "print('Torch version: %s' %torch.__version__)\n",
        "if torch.cuda.is_available():\n",
        "    print('GPU: %s' %torch.cuda.get_device_name()) \n",
        "else:\n",
        "    print('GPU not available.')"
      ],
      "execution_count": null,
      "outputs": [
        {
          "output_type": "stream",
          "name": "stdout",
          "text": [
            "Torch version: 1.10.0+cu111\n",
            "GPU: Tesla K80\n"
          ]
        }
      ]
    },
    {
      "cell_type": "code",
      "metadata": {
        "id": "3osaZGtJnp_N",
        "colab": {
          "base_uri": "https://localhost:8080/"
        },
        "outputId": "6b87cacd-c6fe-4a62-9ef0-f55fe32431ae"
      },
      "source": [
        "!nvidia-smi"
      ],
      "execution_count": null,
      "outputs": [
        {
          "output_type": "stream",
          "name": "stdout",
          "text": [
            "Sun Dec  5 20:57:58 2021       \n",
            "+-----------------------------------------------------------------------------+\n",
            "| NVIDIA-SMI 495.44       Driver Version: 460.32.03    CUDA Version: 11.2     |\n",
            "|-------------------------------+----------------------+----------------------+\n",
            "| GPU  Name        Persistence-M| Bus-Id        Disp.A | Volatile Uncorr. ECC |\n",
            "| Fan  Temp  Perf  Pwr:Usage/Cap|         Memory-Usage | GPU-Util  Compute M. |\n",
            "|                               |                      |               MIG M. |\n",
            "|===============================+======================+======================|\n",
            "|   0  Tesla K80           Off  | 00000000:00:04.0 Off |                    0 |\n",
            "| N/A   42C    P8    28W / 149W |      0MiB / 11441MiB |      0%      Default |\n",
            "|                               |                      |                  N/A |\n",
            "+-------------------------------+----------------------+----------------------+\n",
            "                                                                               \n",
            "+-----------------------------------------------------------------------------+\n",
            "| Processes:                                                                  |\n",
            "|  GPU   GI   CI        PID   Type   Process name                  GPU Memory |\n",
            "|        ID   ID                                                   Usage      |\n",
            "|=============================================================================|\n",
            "|  No running processes found                                                 |\n",
            "+-----------------------------------------------------------------------------+\n"
          ]
        }
      ]
    },
    {
      "cell_type": "code",
      "metadata": {
        "id": "sy49tK5qnZsL",
        "colab": {
          "base_uri": "https://localhost:8080/"
        },
        "outputId": "5e087475-f3d2-4506-fc02-5043560f805a"
      },
      "source": [
        "!lscpu"
      ],
      "execution_count": null,
      "outputs": [
        {
          "output_type": "stream",
          "name": "stdout",
          "text": [
            "Architecture:        x86_64\n",
            "CPU op-mode(s):      32-bit, 64-bit\n",
            "Byte Order:          Little Endian\n",
            "CPU(s):              2\n",
            "On-line CPU(s) list: 0,1\n",
            "Thread(s) per core:  2\n",
            "Core(s) per socket:  1\n",
            "Socket(s):           1\n",
            "NUMA node(s):        1\n",
            "Vendor ID:           GenuineIntel\n",
            "CPU family:          6\n",
            "Model:               63\n",
            "Model name:          Intel(R) Xeon(R) CPU @ 2.30GHz\n",
            "Stepping:            0\n",
            "CPU MHz:             2299.998\n",
            "BogoMIPS:            4599.99\n",
            "Hypervisor vendor:   KVM\n",
            "Virtualization type: full\n",
            "L1d cache:           32K\n",
            "L1i cache:           32K\n",
            "L2 cache:            256K\n",
            "L3 cache:            46080K\n",
            "NUMA node0 CPU(s):   0,1\n",
            "Flags:               fpu vme de pse tsc msr pae mce cx8 apic sep mtrr pge mca cmov pat pse36 clflush mmx fxsr sse sse2 ss ht syscall nx pdpe1gb rdtscp lm constant_tsc rep_good nopl xtopology nonstop_tsc cpuid tsc_known_freq pni pclmulqdq ssse3 fma cx16 pcid sse4_1 sse4_2 x2apic movbe popcnt aes xsave avx f16c rdrand hypervisor lahf_lm abm invpcid_single ssbd ibrs ibpb stibp fsgsbase tsc_adjust bmi1 avx2 smep bmi2 erms invpcid xsaveopt arat md_clear arch_capabilities\n"
          ]
        }
      ]
    },
    {
      "cell_type": "markdown",
      "metadata": {
        "id": "9oW8SVm96LS4"
      },
      "source": [
        "## Import the data\n",
        "\n",
        "You can change the data transformations but not the splitting (40000:10000) between training and validation in this notebook. But you can use a different type of validation with this data in our other codes to find the best model and its hyper-parameters, as long as you don't touch testing data. "
      ]
    },
    {
      "cell_type": "code",
      "metadata": {
        "id": "2Qdkl01CUW6J",
        "colab": {
          "base_uri": "https://localhost:8080/"
        },
        "outputId": "9c66cfcf-d101-4e4f-cce3-3b2d96d7b4f1"
      },
      "source": [
        "## transformations\n",
        "transform = transforms.Compose(\n",
        "    [transforms.ToTensor()])\n",
        "\n",
        "## download and load training dataset\n",
        "# do not change this!\n",
        "dataset = torchvision.datasets.CIFAR10(root='./data', train=True,\n",
        "                                        download=True, transform=transform)\n",
        "trainset, validset = torch.utils.data.random_split(dataset, [40000,10000])\n",
        "\n",
        "BATCH_SIZE = 32\n",
        "\n",
        "trainloader = torch.utils.data.DataLoader(trainset, batch_size=BATCH_SIZE,\n",
        "                                          shuffle=True, num_workers=2)\n",
        "validloader = torch.utils.data.DataLoader(validset, batch_size=BATCH_SIZE,\n",
        "                                          shuffle=True, num_workers=2)\n",
        "\n",
        "len(trainset), len(validset)"
      ],
      "execution_count": null,
      "outputs": [
        {
          "output_type": "stream",
          "name": "stdout",
          "text": [
            "Files already downloaded and verified\n"
          ]
        },
        {
          "output_type": "execute_result",
          "data": {
            "text/plain": [
              "(40000, 10000)"
            ]
          },
          "metadata": {},
          "execution_count": 6
        }
      ]
    },
    {
      "cell_type": "markdown",
      "metadata": {
        "id": "Elo1XfAQ6i5A"
      },
      "source": [
        "### Show a couple of data points"
      ]
    },
    {
      "cell_type": "code",
      "metadata": {
        "id": "r8BKYCX9Yz90",
        "colab": {
          "base_uri": "https://localhost:8080/",
          "height": 219
        },
        "outputId": "aaa2d13d-d4ca-4ce7-94c3-e7fb5b7b9a49"
      },
      "source": [
        "import matplotlib.pyplot as plt\n",
        "\n",
        "## functions to show an image\n",
        "def imshow(img):\n",
        "    #img = img / 2 + 0.5     # unnormalize\n",
        "    npimg = img.numpy()\n",
        "    plt.imshow(np.transpose(npimg, (1, 2, 0)))\n",
        "\n",
        "## get some random training images\n",
        "dataiter = iter(trainloader)\n",
        "images, labels = dataiter.next()\n",
        "\n",
        "## show images\n",
        "imshow(torchvision.utils.make_grid(images))"
      ],
      "execution_count": null,
      "outputs": [
        {
          "output_type": "display_data",
          "data": {
            "image/png": "[encoded data removed]",
            "text/plain": [
              "<Figure size 432x288 with 1 Axes>"
            ]
          },
          "metadata": {
            "needs_background": "light"
          }
        }
      ]
    },
    {
      "cell_type": "markdown",
      "metadata": {
        "id": "s8seE9KV6zZE"
      },
      "source": [
        "## My models\n",
        "\n",
        "<span style=\"color:red\">This is the main section which you should rewrite and expand significanlty providing/documenting your models tried and results with them.</span>\n",
        "\n",
        "They all have to be Pytorch models that solve the CIFAR-10 task.\n",
        "\n",
        "You can go wild here!\n",
        "\n",
        "Best methods (code and describing papers) for the dataset can be found here: https://paperswithcode.com/sota/image-classification-on-cifar-10. Note, that most of the solutions are too big and slow for our rules of the game. \n",
        "\n",
        "You should probably not base your solutions on the ResNet examples provided here, as they are too slow as well. Remove the unoriginal models form this chapter that you don't investigate. \n"
      ]
    },
    {
      "cell_type": "markdown",
      "metadata": {
        "id": "8UCEpetPSEKs"
      },
      "source": [
        "### A sample official tutorial model\n",
        "\n",
        "From https://pytorch.org/tutorials/beginner/blitz/cifar10_tutorial.html"
      ]
    },
    {
      "cell_type": "markdown",
      "metadata": {
        "id": "kY4AETkcW5lk"
      },
      "source": [
        "I have checked with different channels"
      ]
    },
    {
      "cell_type": "code",
      "metadata": {
        "id": "byvbEX9tR667"
      },
      "source": [
        "class Net(nn.Module):\n",
        "    def __init__(self):\n",
        "        super().__init__()\n",
        "        self.conv1 = nn.Conv2d(3, 10, 5)\n",
        "        self.pool = nn.MaxPool2d(2, 2)\n",
        "        self.conv2 = nn.Conv2d(10, 16, 5)\n",
        "        self.fc1 = nn.Linear(16 * 5 * 5, 120)\n",
        "        self.fc2 = nn.Linear(120, 84)\n",
        "        self.fc3 = nn.Linear(84, 10)\n",
        "\n",
        "    def forward(self, x):\n",
        "        x = self.pool(F.relu(self.conv1(x)))\n",
        "        x = self.pool(F.relu(self.conv2(x))) \n",
        "        x = torch.flatten(x, 1) # flatten all dimensions except batch\n",
        "        x = F.relu(self.fc1(x))\n",
        "        x = F.relu(self.fc2(x))\n",
        "        x = self.fc3(x)\n",
        "        return x"
      ],
      "execution_count": null,
      "outputs": []
    },
    {
      "cell_type": "code",
      "metadata": {
        "id": "eigfwXcA63wK"
      },
      "source": [
        "class Net2(nn.Module):\n",
        "    def __init__(self):\n",
        "        super().__init__()\n",
        "        self.conv1 = nn.Conv2d(3, 32, 5)\n",
        "        self.pool = nn.MaxPool2d(2, 2)\n",
        "        self.conv2 = nn.Conv2d(32, 16, 5)\n",
        "        self.fc1 = nn.Linear(16 * 5 * 5, 120)\n",
        "        self.fc2 = nn.Linear(120, 84)\n",
        "        self.fc3 = nn.Linear(84, 10)\n",
        "\n",
        "    def forward(self, x):\n",
        "        x = self.pool(F.relu(self.conv1(x)))\n",
        "        x = self.pool(F.relu(self.conv2(x))) \n",
        "        x = torch.flatten(x, 1) # flatten all dimensions except batch\n",
        "        x = F.relu(self.fc1(x))\n",
        "        x = F.relu(self.fc2(x))\n",
        "        x = self.fc3(x)\n",
        "        return x"
      ],
      "execution_count": null,
      "outputs": []
    },
    {
      "cell_type": "markdown",
      "metadata": {
        "id": "sD72kB05UA1l"
      },
      "source": [
        "### Adoptend from simple MNIST example by \"elvis\"\n",
        "\n",
        "Based on https://medium.com/dair-ai/pytorch-1-2-quickstart-with-google-colab-6690a30c38d.\n",
        "\n",
        "Existing method with different channel"
      ]
    },
    {
      "cell_type": "code",
      "metadata": {
        "id": "wjXAvayvY6Um"
      },
      "source": [
        "class MyModel(nn.Module):\n",
        "    def __init__(self):\n",
        "        self.conv1 = nn.Conv2d(in_channels=3, out_channels=64, kernel_size=3)\n",
        "        self.d1 = nn.Linear(30 * 30 * 64, 128)\n",
        "        self.d2 = nn.Linear(128, 10)\n",
        "\n",
        "    def forward(self, x):\n",
        "        x = self.conv1(x)\n",
        "        x = F.relu(x)\n",
        "        x = x.flatten(start_dim = 1)\n",
        "        x = self.d1(x)\n",
        "        x = F.relu(x)\n",
        "        logits = self.d2(x)\n",
        "        out = F.softmax(logits, dim=1)\n",
        "        return out"
      ],
      "execution_count": null,
      "outputs": []
    },
    {
      "cell_type": "markdown",
      "metadata": {
        "id": "YIjudvBphnSv"
      },
      "source": [
        "### Jai's Models"
      ]
    },
    {
      "cell_type": "markdown",
      "metadata": {
        "id": "iPfzfU50jkEf"
      },
      "source": [
        "These Models wokring like Standard Convolutional Neural Netwok\n",
        "\n",
        "Input image->Convolutional Network Layers->Relu Layers->Maxpool->fully connected layer->output\n",
        "\n",
        "[Pytorch Sequential](https://pytorch.org/docs/stable/generated/torch.nn.Sequential.html)\n",
        "and\n",
        "[Pytorch Linear](https://pytorch.org/docs/stable/generated/torch.nn.Linear.html)"
      ]
    },
    {
      "cell_type": "code",
      "metadata": {
        "id": "V046_8Xu1kS3"
      },
      "source": [
        "class JaiNet14(nn.Module):\n",
        "  def __init__(self):\n",
        "    super(JaiNet14, self).__init__()\n",
        "    #3x32x32->32x14x14  \n",
        "    #first con->((32-5)+(2(0)))/1)+1=(27/1)+1=28\n",
        "    #second max pooling ((28-2)+(2x0))/2)+1=14\n",
        "    self.layer1 = nn.Sequential(\n",
        "          nn.Conv2d(3,32, kernel_size=5),\n",
        "          nn.ReLU(),\n",
        "          nn.MaxPool2d(kernel_size=2, stride=2))\n",
        "    #32x14x14->64x5x5\n",
        "    #first con-> (((14-5)+(2x0))/1)+1=10\n",
        "    #second max pooling -> (10-2)/2+(1)=5\n",
        "    self.layer2 = nn.Sequential(\n",
        "          nn.Conv2d(32, 64, kernel_size=5,stride=1),\n",
        "          nn.ReLU(),\n",
        "          nn.MaxPool2d(kernel_size=2, stride=2))\n",
        "    self.drop_out = nn.Dropout()\n",
        "    self.fc1 = nn.Linear(64* 5 * 5, 120)\n",
        "    self.fc2 = nn.Linear(120,84) \n",
        "  def forward(self, x):\n",
        "    out = self.layer1(x)\n",
        "    out = self.layer2(out)\n",
        "    out = out.view(-1,64*5*5)\n",
        "    out = self.fc1(out)\n",
        "    out = self.fc2(out)\n",
        "    return out"
      ],
      "execution_count": null,
      "outputs": []
    },
    {
      "cell_type": "code",
      "metadata": {
        "id": "okKA4am-ogtT"
      },
      "source": [
        "class JaiNet1(nn.Module):\n",
        "  def __init__(self):\n",
        "    super(JaiNet1, self).__init__()\n",
        "    self.layer1 = nn.Sequential(\n",
        "          nn.Conv2d(3,32, kernel_size=5),\n",
        "          nn.ReLU(),\n",
        "          nn.MaxPool2d(kernel_size=2, stride=2))\n",
        "    self.layer2 = nn.Sequential(\n",
        "          nn.Conv2d(32, 64, kernel_size=5),\n",
        "          nn.ReLU(),\n",
        "          nn.MaxPool2d(kernel_size=2, stride=2))\n",
        "    self.drop_out = nn.Dropout()\n",
        "    self.fc1 = nn.Linear(64* 5 * 5, 120)\n",
        "    self.fc2 = nn.Linear(120,84)\n",
        "  def forward(self, x):\n",
        "    out = self.layer1(x)\n",
        "    out = self.layer2(out)\n",
        "    out = out.reshape(out.size(0), -1)\n",
        "    out = self.drop_out(out)\n",
        "    out = self.fc1(out)\n",
        "    out = self.fc2(out)\n",
        "    return out"
      ],
      "execution_count": null,
      "outputs": []
    },
    {
      "cell_type": "code",
      "metadata": {
        "id": "ltPxt66CcaUL"
      },
      "source": [
        "class JaiNet11(nn.Module):\n",
        "  def __init__(self):\n",
        "    super(JaiNet11, self).__init__()\n",
        "    self.layer1 = nn.Sequential(\n",
        "          nn.Conv2d(3,32, kernel_size=5),\n",
        "          nn.ReLU(),\n",
        "          nn.MaxPool2d(kernel_size=2, stride=2))\n",
        "    self.layer2 = nn.Sequential(\n",
        "          nn.Conv2d(32, 64, kernel_size=5),\n",
        "          nn.ReLU(),\n",
        "          nn.MaxPool2d(kernel_size=2, stride=2))\n",
        "    self.drop_out = nn.Dropout()\n",
        "    self.fc1 = nn.Linear(64* 5 * 5, 84)\n",
        "    self.fc2 = nn.Linear(84,10)\n",
        "  def forward(self, x):\n",
        "    out = self.layer1(x)\n",
        "    out = self.layer2(out)\n",
        "    out = out.reshape(out.size(0), -1)\n",
        "    out = self.drop_out(out)\n",
        "    out = self.fc1(out)\n",
        "    out = self.fc2(out)\n",
        "    return out"
      ],
      "execution_count": null,
      "outputs": []
    },
    {
      "cell_type": "code",
      "metadata": {
        "id": "TNua7CkGPY-m"
      },
      "source": [
        "class JaiNet2(nn.Module):\n",
        "  def __init__(self):\n",
        "    super(JaiNet2, self).__init__()\n",
        "    self.layer1 = nn.Sequential(\n",
        "          nn.Conv2d(3,10, kernel_size=5),\n",
        "          nn.ReLU(),\n",
        "          nn.MaxPool2d(kernel_size=2, stride=2))\n",
        "    self.drop_out = nn.Dropout()\n",
        "    self.fc1 = nn.Linear(10* 30 * 30, 128)\n",
        "    self.fc2 = nn.Linear(128,10)\n",
        "  def forward(self, x):\n",
        "    out = self.layer1(x)\n",
        "    out = out.reshape(out.size(0), -1)\n",
        "    out = self.drop_out(out)\n",
        "    out = self.fc1(out)\n",
        "    return out"
      ],
      "execution_count": null,
      "outputs": []
    },
    {
      "cell_type": "code",
      "metadata": {
        "id": "6KHLJctfTPge"
      },
      "source": [
        "class JaiNet3(nn.Module):\n",
        "  def __init__(self):\n",
        "    super(JaiNet3, self).__init__()\n",
        "    self.layer1 = nn.Sequential(\n",
        "          nn.Conv2d(3,10, kernel_size=5),\n",
        "          nn.ReLU(),\n",
        "          nn.MaxPool2d(kernel_size=2, stride=2))\n",
        "    self.layer2 = nn.Sequential(\n",
        "          nn.Conv2d(10, 16, kernel_size=5),\n",
        "          nn.ReLU(),\n",
        "          nn.MaxPool2d(kernel_size=2, stride=2))\n",
        "    self.drop_out = nn.Dropout()\n",
        "    self.fc1 = nn.Linear(16* 5 * 5, 120)\n",
        "    self.fc2 = nn.Linear(120,84)\n",
        "  def forward(self, x):\n",
        "    out = self.layer1(x)\n",
        "    out = self.layer2(out)\n",
        "    out = out.reshape(out.size(0), -1)\n",
        "    out = self.drop_out(out)\n",
        "    out = self.fc1(out)\n",
        "    out = self.fc2(out)\n",
        "    return out"
      ],
      "execution_count": null,
      "outputs": []
    },
    {
      "cell_type": "code",
      "metadata": {
        "id": "u9IQHu3_Y9RU"
      },
      "source": [
        "class JaiNet4(nn.Module):\n",
        "  def __init__(self):\n",
        "    super(JaiNet4, self).__init__()\n",
        "    self.layer1 = nn.Sequential(\n",
        "          nn.Conv2d(3,32, kernel_size=5),\n",
        "          nn.ReLU(),\n",
        "          nn.MaxPool2d(kernel_size=2, stride=2))\n",
        "    self.layer2 = nn.Sequential(\n",
        "          nn.Conv2d(32, 64, kernel_size=5),\n",
        "          nn.ReLU(),\n",
        "          nn.MaxPool2d(kernel_size=2, stride=2))\n",
        "    self.drop_out = nn.Dropout()\n",
        "    self.fc1 = nn.Linear(64* 5 * 5, 128)\n",
        "    self.fc2 = nn.Linear(128,10)\n",
        "  def forward(self, x):\n",
        "    out = self.layer1(x)\n",
        "    out = self.layer2(out)\n",
        "    out = out.reshape(out.size(0), -1)\n",
        "    out = self.drop_out(out)\n",
        "    out = self.fc1(out)\n",
        "    out = self.fc2(out)\n",
        "    return out"
      ],
      "execution_count": null,
      "outputs": []
    },
    {
      "cell_type": "code",
      "metadata": {
        "id": "u1Y0v7--YXp8"
      },
      "source": [
        "class JaiNet42(nn.Module):\n",
        "  def __init__(self):\n",
        "    super(JaiNet42, self).__init__()\n",
        "    self.layer1 = nn.Sequential(\n",
        "          nn.Conv2d(3,32, kernel_size=5),\n",
        "          nn.ReLU(),\n",
        "          nn.MaxPool2d(kernel_size=2, stride=2))\n",
        "    self.layer2 = nn.Sequential(\n",
        "          nn.Conv2d(32, 64, kernel_size=5),\n",
        "          nn.ReLU(),\n",
        "          nn.MaxPool2d(kernel_size=2, stride=2))\n",
        "    self.drop_out = nn.Dropout()\n",
        "    self.fc1 = nn.Linear(64* 5 * 5, 84)\n",
        "    self.fc2 = nn.Linear(84,10)\n",
        "  def forward(self, x):\n",
        "    out = self.layer1(x)\n",
        "    out = self.layer2(out)\n",
        "    out = out.reshape(out.size(0), -1)\n",
        "    out = self.drop_out(out)\n",
        "    out = self.fc1(out)\n",
        "    out = self.fc2(out)\n",
        "    return out"
      ],
      "execution_count": null,
      "outputs": []
    },
    {
      "cell_type": "code",
      "metadata": {
        "id": "Tu1DEsiQcd96"
      },
      "source": [
        "class JaiNet5(nn.Module):\n",
        "  def __init__(self):\n",
        "    super(JaiNet5, self).__init__()\n",
        "    self.layer1 = nn.Sequential(\n",
        "          nn.Conv2d(3,64, kernel_size=5),\n",
        "          nn.ReLU(),\n",
        "          nn.MaxPool2d(kernel_size=2, stride=2))\n",
        "    self.layer2 = nn.Sequential(\n",
        "          nn.Conv2d(64, 64, kernel_size=5),\n",
        "          nn.ReLU(),\n",
        "          nn.MaxPool2d(kernel_size=2, stride=2))\n",
        "    self.drop_out = nn.Dropout()\n",
        "    self.fc1 = nn.Linear(64* 5 * 5, 120)\n",
        "    self.fc2 = nn.Linear(120,84)\n",
        "  def forward(self, x):\n",
        "    out = self.layer1(x)\n",
        "    out = self.layer2(out)\n",
        "    out = out.reshape(out.size(0), -1)\n",
        "    out = self.drop_out(out)\n",
        "    out = self.fc1(out)\n",
        "    out = self.fc2(out)\n",
        "    return out"
      ],
      "execution_count": null,
      "outputs": []
    },
    {
      "cell_type": "code",
      "metadata": {
        "id": "D-PaJdKZeQgZ"
      },
      "source": [
        "class JaiNet6(nn.Module):\n",
        "  def __init__(self):\n",
        "    super(JaiNet6, self).__init__()\n",
        "    self.layer1 = nn.Sequential(\n",
        "          nn.Conv2d(3,64, kernel_size=5),\n",
        "          nn.ReLU(),\n",
        "          nn.MaxPool2d(kernel_size=2, stride=2))\n",
        "    self.layer2 = nn.Sequential(\n",
        "          nn.Conv2d(64, 32, kernel_size=5),\n",
        "          nn.ReLU(),\n",
        "          nn.MaxPool2d(kernel_size=2, stride=2))\n",
        "    self.drop_out = nn.Dropout()\n",
        "    self.fc1 = nn.Linear(32* 5 * 5, 120)\n",
        "    self.fc2 = nn.Linear(120,84)\n",
        "  def forward(self, x):\n",
        "    out = self.layer1(x)\n",
        "    out = self.layer2(out)\n",
        "    out = out.reshape(out.size(0), -1)\n",
        "    out = self.drop_out(out)\n",
        "    out = self.fc1(out)\n",
        "    out = self.fc2(out)\n",
        "    return out"
      ],
      "execution_count": null,
      "outputs": []
    },
    {
      "cell_type": "code",
      "metadata": {
        "id": "PKaYjeIQ-rkk"
      },
      "source": [
        "class JaiNet7(nn.Module):   \n",
        "    def __init__(self):\n",
        "        super(JaiNet7, self).__init__()\n",
        "\n",
        "#3x32x32->64x7x7\n",
        "        self.cnn_layers = nn.Sequential(\n",
        "        \n",
        "            nn.Conv2d(3, 64, kernel_size=3),\n",
        "            #nn.BatchNorm2d(64),\n",
        "            nn.ReLU(inplace=True),\n",
        "            nn.MaxPool2d(kernel_size=2, stride=2),\n",
        "\n",
        "            nn.Conv2d(64, 32, kernel_size=3),\n",
        "            #nn.BatchNorm2d(32),\n",
        "            nn.ReLU(inplace=True),\n",
        "            nn.MaxPool2d(kernel_size=2, stride=2),\n",
        "        )\n",
        "\n",
        "        self.linear_layers = nn.Sequential(\n",
        "            nn.Linear(32 *  7* 7, 120),\n",
        "            nn.Linear(120,10)\n",
        "            )   \n",
        "    def forward(self, x):\n",
        "      out = self.cnn_layers(x)\n",
        "      out = out.reshape(out.size(0), -1)\n",
        "      out = self.linear_layers(out)\n",
        "      return out"
      ],
      "execution_count": null,
      "outputs": []
    },
    {
      "cell_type": "code",
      "metadata": {
        "id": "VPf04_nLPgxI"
      },
      "source": [
        "class JaiNet8(nn.Module):\n",
        "  def __init__(self):\n",
        "    super(JaiNet8, self).__init__()\n",
        "    #3x32x32->6x14x14  \n",
        "    #first con->((32-5)+(2(0)))/1)+1=(27/1)+1=28\n",
        "    #second ((28-2)+(2x0))/2)+1=14\n",
        "    self.layer1 = nn.Sequential(\n",
        "          nn.Conv2d(3,6, kernel_size=5),\n",
        "          nn.ReLU(),\n",
        "          nn.MaxPool2d(kernel_size=2, stride=2))\n",
        "    #6x14x14->16x5x5\n",
        "    #first con-> (((14-5)+(2x0))/1)+1=10\n",
        "    #second max pooling -> (10-2)/2+(1)=5\n",
        "    self.layer2 = nn.Sequential(\n",
        "          nn.Conv2d(6, 16, kernel_size=5,stride=1),\n",
        "          nn.ReLU(),\n",
        "          nn.MaxPool2d(kernel_size=2, stride=2))\n",
        "    self.drop_out = nn.Dropout()\n",
        "    self.fc1 = nn.Linear(16* 5 * 5, 120)\n",
        "    self.fc2 = nn.Linear(120,84) \n",
        "  def forward(self, x):\n",
        "    out = self.layer1(x)\n",
        "    out = self.layer2(out)\n",
        "    out = out.view(-1,16*5*5)\n",
        "    #out = out.reshape(out.size(0), -1)\n",
        "    #out = self.drop_out(out)\n",
        "    out = self.fc1(out)\n",
        "    out = self.fc2(out)\n",
        "    return out"
      ],
      "execution_count": null,
      "outputs": []
    },
    {
      "cell_type": "code",
      "metadata": {
        "id": "HpY_8iBHJJ9-"
      },
      "source": [
        "class JaiNet9(nn.Module):\n",
        "  def __init__(self):\n",
        "    super(JaiNet9, self).__init__()\n",
        "    #3x32x32->6x14x14  \n",
        "    #first con->((32-5)+(2(0)))/1)+1=(27/1)+1=28\n",
        "    #second ((28-2)+(2x0))/2)+1=14\n",
        "    self.layer1 = nn.Sequential(\n",
        "          nn.Conv2d(3,6, kernel_size=5),\n",
        "          nn.ReLU(),\n",
        "          nn.MaxPool2d(kernel_size=2, stride=2))\n",
        "    #6x14x14->64x5x5\n",
        "    #first con-> (((14-5)+(2x0))/1)+1=10\n",
        "    #second max pooling -> (10-2)/2+(1)=5\n",
        "    self.layer2 = nn.Sequential(\n",
        "          nn.Conv2d(6, 64, kernel_size=5,stride=1),\n",
        "          nn.ReLU(),\n",
        "          nn.MaxPool2d(kernel_size=2, stride=2))\n",
        "    #64x5x5->16x4x4\n",
        "    self.layer3 = nn.Sequential(\n",
        "          nn.Conv2d(64, 16, kernel_size=3,stride=1),\n",
        "          nn.ReLU(),\n",
        "          nn.MaxPool2d(kernel_size=2, stride=2))\n",
        "    self.drop_out = nn.Dropout()\n",
        "    self.fc1 = nn.Linear(64* 5 * 5, 120)\n",
        "    self.fc2 = nn.Linear(120,84)\n",
        "    self.fc3= nn.Linear(84,10)\n",
        "  def forward(self, x):\n",
        "    out = self.layer1(x)\n",
        "    out = self.layer2(out)\n",
        "    #out = self.layer3(out)\n",
        "    out = out.view(-1,64*5*5)\n",
        "    #out = out.reshape(out.size(0), -1)\n",
        "    #out = self.drop_out(out)\n",
        "    out = self.fc1(out)\n",
        "    out = self.fc2(out)\n",
        "    out = self.fc3(out)\n",
        "    return out"
      ],
      "execution_count": null,
      "outputs": []
    },
    {
      "cell_type": "code",
      "metadata": {
        "id": "MEaTCFIkmt6r"
      },
      "source": [
        "class JaiNet10(nn.Module):\n",
        "  def __init__(self):\n",
        "    super(JaiNet10, self).__init__()\n",
        "    #3x32x32->6x15x15  \n",
        "    #first con->((32-3)+(2(0)))/1)+1=(29/1)+1=30\n",
        "    #second ((30-2)+(2x0))/2)+1=15\n",
        "    self.layer1 = nn.Sequential(\n",
        "          nn.Conv2d(3,6, kernel_size=3),\n",
        "          nn.ReLU(),\n",
        "          nn.MaxPool2d(kernel_size=2, stride=2))\n",
        "    #6x15x15->64x5x5\n",
        "    #first con-> (((15-3)+(2x0))/1)+1=13\n",
        "    #second max pooling -> (13-2)/2+(1)=6\n",
        "    self.layer2 = nn.Sequential(\n",
        "          nn.Conv2d(6, 64, kernel_size=3,stride=1),\n",
        "          nn.ReLU(),\n",
        "          nn.MaxPool2d(kernel_size=2, stride=2))\n",
        "    #64x5x5->16x4x4\n",
        "    self.layer3 = nn.Sequential(\n",
        "          nn.Conv2d(64, 16, kernel_size=3,stride=1),\n",
        "          nn.ReLU(),\n",
        "          nn.MaxPool2d(kernel_size=2, stride=2))\n",
        "    self.drop_out = nn.Dropout()\n",
        "    self.fc1 = nn.Linear(64* 6 * 6, 120)\n",
        "    self.fc2 = nn.Linear(120,84)\n",
        "    self.fc3= nn.Linear(84,10)\n",
        "  def forward(self, x):\n",
        "    out = self.layer1(x)\n",
        "    out = self.layer2(out)\n",
        "    #out = self.layer3(out)\n",
        "    out = out.view(-1,64*6*6)\n",
        "    #out = out.reshape(out.size(0), -1)\n",
        "    #out = self.drop_out(out)\n",
        "    out = self.fc1(out)\n",
        "    out = self.fc2(out)\n",
        "    out = self.fc3(out)\n",
        "    return out"
      ],
      "execution_count": null,
      "outputs": []
    },
    {
      "cell_type": "code",
      "metadata": {
        "id": "uEJGyuizrtt_"
      },
      "source": [
        "class JaiNet111(nn.Module):\n",
        "  def __init__(self):\n",
        "    super(JaiNet111, self).__init__()\n",
        "    #3x32x32->6x15x15  \n",
        "    #first con->((32-3)+(2(0)))/1)+1=(29/1)+1=30\n",
        "    #second ((30-2)+(2x0))/2)+1=15\n",
        "    self.layer1 = nn.Sequential(\n",
        "          nn.Conv2d(3,6, kernel_size=3),\n",
        "          nn.ReLU(),\n",
        "          nn.MaxPool2d(kernel_size=2, stride=2))\n",
        "    #6x15x15->64x5x5\n",
        "    #first con-> (((15-3)+(2x0))/1)+1=13\n",
        "    #second max pooling -> (13-2)/2+(1)=6\n",
        "    self.layer2 = nn.Sequential(\n",
        "          nn.Conv2d(6, 64, kernel_size=3,stride=1),\n",
        "          nn.ReLU(),\n",
        "          nn.MaxPool2d(kernel_size=2, stride=2))\n",
        "    #64x5x5->16x4x4\n",
        "    self.layer3 = nn.Sequential(\n",
        "          nn.Conv2d(64, 16, kernel_size=3,stride=1),\n",
        "          nn.ReLU(),\n",
        "          nn.MaxPool2d(kernel_size=2, stride=2))\n",
        "    self.drop_out = nn.Dropout()\n",
        "    self.fc1 = nn.Linear(64* 6 * 6, 120)\n",
        "    self.fc2 = nn.Linear(120,84)\n",
        "    self.fc3= nn.Linear(84,10)\n",
        "  def forward(self, x):\n",
        "    out = self.layer1(x)\n",
        "    out = self.layer2(out)\n",
        "    #out = self.layer3(out)\n",
        "    out = out.view(-1,64*6*6)\n",
        "    #out = out.reshape(out.size(0), -1)\n",
        "    #out = self.drop_out(out)\n",
        "    out = self.fc1(out)\n",
        "    out = self.fc2(out)\n",
        "    #out = self.fc3(out)\n",
        "    return out"
      ],
      "execution_count": null,
      "outputs": []
    },
    {
      "cell_type": "code",
      "metadata": {
        "id": "mx6JGauTuY1j"
      },
      "source": [
        "class JaiNet12(nn.Module):\n",
        "  def __init__(self):\n",
        "    super(JaiNet12, self).__init__()\n",
        "    #3x32x32->6x15x15  \n",
        "    #first con->((32-3)+(2(0)))/1)+1=(29/1)+1=30\n",
        "    #second ((30-2)+(2x0))/2)+1=15\n",
        "    self.layer1 = nn.Sequential(\n",
        "          nn.Conv2d(3,6, kernel_size=3),\n",
        "          nn.ReLU(),\n",
        "          nn.MaxPool2d(kernel_size=2, stride=2))\n",
        "    #6x15x15->64x5x5\n",
        "    #first con-> (((15-3)+(2x0))/1)+1=13\n",
        "    #second max pooling -> (13-2)/2+(1)=6\n",
        "    self.layer2 = nn.Sequential(\n",
        "          nn.Conv2d(6, 64, kernel_size=3,stride=1),\n",
        "          nn.ReLU(),\n",
        "          nn.MaxPool2d(kernel_size=2, stride=2))\n",
        "    #64x5x5->16x4x4\n",
        "    self.layer3 = nn.Sequential(\n",
        "          nn.Conv2d(64, 16, kernel_size=3,stride=1),\n",
        "          nn.ReLU(),\n",
        "          nn.MaxPool2d(kernel_size=2, stride=2))\n",
        "    self.drop_out = nn.Dropout()\n",
        "    self.fc1 = nn.Linear(64* 6 * 6, 120)\n",
        "    self.fc2 = nn.Linear(120,84)\n",
        "    self.fc3= nn.Linear(84,5)\n",
        "  def forward(self, x):\n",
        "    out = self.layer1(x)\n",
        "    out = self.layer2(out)\n",
        "    out = out.view(-1,64*6*6)\n",
        "    #out = self.drop_out(out)\n",
        "    out = self.fc1(out)\n",
        "    out = self.fc2(out)\n",
        "    return out"
      ],
      "execution_count": null,
      "outputs": []
    },
    {
      "cell_type": "code",
      "metadata": {
        "id": "6wZUHhlszndG"
      },
      "source": [
        "class JaiNet13(nn.Module):\n",
        "  def __init__(self):\n",
        "    super(JaiNet13, self).__init__()\n",
        "    #3x32x32->6x7x7  \n",
        "    #first con->((32-6)+(2(0)))/2)+1=(26/2)+1=14\n",
        "    #second ((14-2)+(2x0))/2)+1=7\n",
        "    self.layer1 = nn.Sequential(\n",
        "          nn.Conv2d(3,6, kernel_size=6,stride=2),\n",
        "          nn.ReLU(),\n",
        "          nn.MaxPool2d(kernel_size=2, stride=2))\n",
        "    #6x7x7->64x5x5\n",
        "    #first con-> (((7-6)+(2x0))/1)+1=2\n",
        "    #second max pooling -> (2-2)/2+(1)=1\n",
        "    self.layer2 = nn.Sequential(\n",
        "          nn.Conv2d(6, 64, kernel_size=6,stride=1),\n",
        "          nn.ReLU(),\n",
        "          nn.MaxPool2d(kernel_size=2, stride=2))\n",
        "    #64x5x5->16x4x4\n",
        "    self.layer3 = nn.Sequential(\n",
        "          nn.Conv2d(64, 16, kernel_size=3,stride=1),\n",
        "          nn.ReLU(),\n",
        "          nn.MaxPool2d(kernel_size=2, stride=2))\n",
        "    self.drop_out = nn.Dropout()\n",
        "    self.fc1 = nn.Linear(64* 1 * 1, 120)\n",
        "    self.fc2 = nn.Linear(120,84)\n",
        "    self.fc3= nn.Linear(84,5)\n",
        "  def forward(self, x):\n",
        "    out = self.layer1(x)\n",
        "    out = self.layer2(out)\n",
        "    #out = self.layer3(out)\n",
        "    #out = out.view(-1,64*1*1)\n",
        "    out = out.reshape(out.size(0), -1)\n",
        "    #out = self.drop_out(out)\n",
        "    out = self.fc1(out)\n",
        "    out = self.fc2(out)\n",
        "    #out = self.fc3(out)\n",
        "    return out"
      ],
      "execution_count": null,
      "outputs": []
    },
    {
      "cell_type": "code",
      "metadata": {
        "id": "Es3uzSUv3MxP"
      },
      "source": [
        "class JaiNet15(nn.Module):\n",
        "  def __init__(self):\n",
        "    super(JaiNet15, self).__init__()\n",
        "    #3x32x32->6x28x28  \n",
        "    #first con->((32-5)+(2(0)))/2)+1=(27/2)+1=14\n",
        "    #second ((14-2)+(2x0))/2)+1=7\n",
        "    self.layer1 = nn.Sequential(\n",
        "          nn.Conv2d(3,32, kernel_size=5,stride=2),\n",
        "          nn.ReLU(),\n",
        "          nn.MaxPool2d(kernel_size=2, stride=2))\n",
        "    #32x7x7->64x5x5\n",
        "    #first con-> (((7-5)+(2x0))/1)+1=3\n",
        "    #second max pooling -> (3-2)/2+(1)=2\n",
        "    self.layer2 = nn.Sequential(\n",
        "          nn.Conv2d(32, 64, kernel_size=5,stride=1),\n",
        "          nn.ReLU(),\n",
        "          nn.MaxPool2d(kernel_size=2, stride=1))\n",
        "    self.drop_out = nn.Dropout()\n",
        "    self.fc1 = nn.Linear(64* 2 * 2, 120)\n",
        "    self.fc2 = nn.Linear(120,84) \n",
        "  def forward(self, x):\n",
        "    out = self.layer1(x)\n",
        "    out = self.layer2(out)\n",
        "    out = out.view(-1,64*2*2)\n",
        "    #out = out.reshape(out.size(0), -1)\n",
        "    #out = self.drop_out(out)\n",
        "    out = self.fc1(out)\n",
        "    out = self.fc2(out)\n",
        "    return out"
      ],
      "execution_count": null,
      "outputs": []
    },
    {
      "cell_type": "code",
      "metadata": {
        "id": "mvFhb98X6eMo"
      },
      "source": [
        "class JaiNet16(nn.Module):\n",
        "  def __init__(self):\n",
        "    super(JaiNet16, self).__init__()\n",
        "    #3x32x32->6x28x28  \n",
        "    #first con->((32-3)+(2(0)))/2)+1=(29/2)+1=15\n",
        "    #second ((15-2)+(2x0))/2)+1=7\n",
        "    self.layer1 = nn.Sequential(\n",
        "          nn.Conv2d(3,32, kernel_size=3,stride=2),\n",
        "          nn.ReLU(),\n",
        "          nn.MaxPool2d(kernel_size=2, stride=2))\n",
        "    #32x7x7->64x5x5\n",
        "    #first con-> (((7-5)+(2x0))/1)+1=3\n",
        "    #second max pooling -> (3-2)/2+(1)=2\n",
        "    self.layer2 = nn.Sequential(\n",
        "          nn.Conv2d(32, 64, kernel_size=5,stride=1),\n",
        "          nn.ReLU(),\n",
        "          nn.MaxPool2d(kernel_size=2, stride=1))\n",
        "    self.drop_out = nn.Dropout()\n",
        "    self.fc1 = nn.Linear(64* 2 * 2, 120)\n",
        "    self.fc2 = nn.Linear(120,84) \n",
        "  def forward(self, x):\n",
        "    out = self.layer1(x)\n",
        "    out = self.layer2(out)\n",
        "    out = out.view(-1,64*2*2)\n",
        "    #out = out.reshape(out.size(0), -1)\n",
        "    #out = self.drop_out(out)\n",
        "    out = self.fc1(out)\n",
        "    out = self.fc2(out)\n",
        "    return out"
      ],
      "execution_count": null,
      "outputs": []
    },
    {
      "cell_type": "markdown",
      "metadata": {
        "id": "l7TaMT-D7FcN"
      },
      "source": [
        "## Learning parameters\n",
        "\n",
        "You have a freedom here. The `num_epochs` should be such that training should not exceed 3 minutes on Tesla K80. Different parameters can be tried on different models. Results reported above.\n",
        "\n",
        "But the final version for training `my_best_model` should be left when submitting the notebook, because it's training time and testing performance will be evaluated. "
      ]
    },
    {
      "cell_type": "code",
      "metadata": {
        "id": "uEAQU3aVfCyJ"
      },
      "source": [
        "BATCH_SIZE = 32\n",
        "\n",
        "trainloader = torch.utils.data.DataLoader(trainset, batch_size=BATCH_SIZE,\n",
        "                                          shuffle=True, num_workers=2)\n",
        "validloader = torch.utils.data.DataLoader(validset, batch_size=BATCH_SIZE,\n",
        "                                          shuffle=True, num_workers=2)\n",
        "\n",
        "learning_rate = 0.001\n",
        "num_epochs = 10 #16\n",
        "\n",
        "device = torch.device(\"cuda:0\" if torch.cuda.is_available() else \"cpu\")\n",
        "my_best_model = JaiNet14()#ResNet12() #Net3() # ResNet18()#ConvNet() \n",
        "my_best_model = my_best_model.to(device)\n",
        "# my_best_model = torch.nn.DataParallel(my_best_model) # make parallel\n",
        "import torch.backends.cudnn as cudnn\n",
        "cudnn.benchmark = True\n",
        "criterion = nn.CrossEntropyLoss()\n",
        "optimizer = torch.optim.Adam(my_best_model.parameters(), lr=learning_rate)\n",
        "scaler = torch.cuda.amp.GradScaler()"
      ],
      "execution_count": null,
      "outputs": []
    },
    {
      "cell_type": "markdown",
      "metadata": {
        "id": "V21TukzziSzN"
      },
      "source": [
        "## Report of the things tried and their validation results\n",
        "\n",
        "\n",
        "The results can be:\n",
        "\n",
        "| Model | Epochs | Training time, s | Training accuracy | Validation accuracy |\n",
        "|-------|--------|------------------|-------------------|---------------------|\n",
        "| JaiNet1|   11    | 178             |  0.65             | 0.67                |\n",
        "| JaiNet11|   10    | 163             |  0.62             | 0.66                |\n",
        "| JaiNet3|   11    | 170             |  0.53             | 0.58                |\n",
        "| JaiNet4|   11    | 178             |  0.66             | 0.69                |\n",
        "| JaiNet42|   11    | 178             |  0.64             | 0.64               |\n",
        "| JaiNet5|   10    | 173             |  0.64             | 0.66                |\n",
        "| JaiNet6|   9    | 163             |  0.57             | 0.63                |\n",
        "| JaiNet8|   11    | 171             |  0.59             | 0.57                |\n",
        "| JaiNet9|   11    | 179.8             |  0.68             | 0.60                |\n",
        "| JaiNet10|   11    | 163             |  0.74             | 0.62                |\n",
        "| JaiNet111|   11    | 162             |  0.73             | 0.62                |\n",
        "| JaiNet12|   10    | 165             |  0.75             | 0.63                |\n",
        "| JaiNet14|   11    | 178             |  0.74             | 0.67                |\n",
        "| JaiNet15|   11    | 178             |  0.69             | 0.63                |\n",
        "| JaiNet15|   11    | 178             |  0.68            | 0.61               |\n",
        "\n",
        "\n",
        "\n"
      ]
    },
    {
      "cell_type": "markdown",
      "metadata": {
        "id": "1VH_6kWrXpYC"
      },
      "source": [
        "JaiNet14 model have the best result with Training Accuracy as .74 and Validation accuracy as .67. I would suggest you to check multiple times so that we can know the best Accuracy. "
      ]
    },
    {
      "cell_type": "markdown",
      "metadata": {
        "id": "JdK6UKXX8A4Z"
      },
      "source": [
        "## Train\n",
        "\n",
        "<span style=\"color:red\">Do not edit beyound this point!</span>\n",
        "\n",
        "The training is only happening here. The same training (without your modifications if any) will be done to evaluate your `my_best_model`. "
      ]
    },
    {
      "cell_type": "code",
      "metadata": {
        "id": "Mm0eXKPTfDwm",
        "scrolled": true,
        "colab": {
          "base_uri": "https://localhost:8080/"
        },
        "outputId": "eebbfe9e-b04e-4bf7-ef14-53c2d0d79873"
      },
      "source": [
        "# timing. do not alter!\n",
        "start_timer = torch.cuda.Event(enable_timing=True)\n",
        "end_timer = torch.cuda.Event(enable_timing=True)\n",
        "start_timer.record()\n",
        "\n",
        "# training stats\n",
        "trainlosses = np.zeros(num_epochs)\n",
        "trainaccs = np.zeros(num_epochs)\n",
        "validaccs = np.zeros(num_epochs)\n",
        "\n",
        "for epoch in range(num_epochs):\n",
        "    train_running_loss = 0.0\n",
        "    train_acc = 0.0\n",
        "\n",
        "    my_best_model = my_best_model.train()\n",
        "\n",
        "    ## training step\n",
        "    for i, (images, labels) in enumerate(trainloader):\n",
        "        \n",
        "        images = images.to(device)\n",
        "        labels = labels.to(device)\n",
        "\n",
        "        ## forward + backprop + loss\n",
        "        with torch.cuda.amp.autocast():\n",
        "            logits = my_best_model(images)\n",
        "            loss = criterion(logits, labels)\n",
        "        optimizer.zero_grad()\n",
        "        # loss.backward()\n",
        "        scaler.scale(loss).backward()\n",
        "\n",
        "        ## update model params\n",
        "        #optimizer.step()\n",
        "        scaler.step(optimizer)\n",
        "        scaler.update()\n",
        "\n",
        "        train_running_loss += loss.detach().item()\n",
        "        train_acc += get_accuracy(logits, labels, BATCH_SIZE)\n",
        "    \n",
        "    my_best_model.eval()\n",
        "    train_running_loss /= len(trainloader)\n",
        "    train_acc /= len(trainloader)\n",
        "\n",
        "    valid_acc = 0.0\n",
        "    for i, (images, labels) in enumerate(validloader, 0):\n",
        "        images = images.to(device)\n",
        "        labels = labels.to(device)\n",
        "        outputs = my_best_model(images)\n",
        "        valid_acc += get_accuracy(outputs, labels, BATCH_SIZE)\n",
        "    \n",
        "    valid_acc /= len(validloader)\n",
        "\n",
        "    print('Epoch: %d | Loss: %.4f | Train Accuracy: %.4f | Validation Accuracy: %.4f' \\\n",
        "          %(epoch, train_running_loss, train_acc, valid_acc)) \n",
        "            \n",
        "    trainlosses[epoch] = train_running_loss\n",
        "    trainaccs[epoch] = train_acc\n",
        "    validaccs[epoch] = valid_acc\n",
        "\n",
        "# timing. do not alter!\n",
        "end_timer.record()\n",
        "torch.cuda.synchronize()\n",
        "elapsed_time = start_timer.elapsed_time(end_timer)\n",
        "max_training_time = 3*60*1000\n",
        "print('Training time: %.2f ms (max %i ms.)' %(elapsed_time,max_training_time))  \n",
        "assert elapsed_time <= max_training_time, 'Training is too long!'"
      ],
      "execution_count": null,
      "outputs": [
        {
          "output_type": "stream",
          "name": "stdout",
          "text": [
            "Epoch: 0 | Loss: 1.5857 | Train Accuracy: 0.4280 | Validation Accuracy: 0.4829\n",
            "Epoch: 1 | Loss: 1.2228 | Train Accuracy: 0.5700 | Validation Accuracy: 0.5787\n",
            "Epoch: 2 | Loss: 1.0898 | Train Accuracy: 0.6203 | Validation Accuracy: 0.6125\n",
            "Epoch: 3 | Loss: 1.0116 | Train Accuracy: 0.6462 | Validation Accuracy: 0.6166\n",
            "Epoch: 4 | Loss: 0.9463 | Train Accuracy: 0.6693 | Validation Accuracy: 0.6535\n",
            "Epoch: 5 | Loss: 0.8970 | Train Accuracy: 0.6893 | Validation Accuracy: 0.6541\n",
            "Epoch: 6 | Loss: 0.8570 | Train Accuracy: 0.7017 | Validation Accuracy: 0.6640\n",
            "Epoch: 7 | Loss: 0.8198 | Train Accuracy: 0.7159 | Validation Accuracy: 0.6503\n",
            "Epoch: 8 | Loss: 0.7863 | Train Accuracy: 0.7256 | Validation Accuracy: 0.6668\n",
            "Epoch: 9 | Loss: 0.7577 | Train Accuracy: 0.7356 | Validation Accuracy: 0.6651\n",
            "Training time: 164933.39 ms (max 180000 ms.)\n"
          ]
        }
      ]
    },
    {
      "cell_type": "markdown",
      "metadata": {
        "id": "yGWoIz71zVwY"
      },
      "source": [
        "Plot training loss, training and validation accuracy over training epochs."
      ]
    },
    {
      "cell_type": "code",
      "metadata": {
        "id": "Y58sO6t1O7ZL",
        "colab": {
          "base_uri": "https://localhost:8080/",
          "height": 622
        },
        "outputId": "0ecc0a11-0246-4aa7-ea97-32bd7ebfff18"
      },
      "source": [
        "plt.figure(figsize=(10,10))\n",
        "plt.subplot(2,1,1)\n",
        "plt.plot(trainlosses)\n",
        "plt.legend(['Training loss']) \n",
        "plt.subplot(2,1,2)\n",
        "plt.plot(trainaccs)\n",
        "plt.plot(validaccs)\n",
        "plt.xlabel('Training epochs')\n",
        "plt.legend(['Training accuray','Validation accuray'])"
      ],
      "execution_count": null,
      "outputs": [
        {
          "output_type": "execute_result",
          "data": {
            "text/plain": [
              "<matplotlib.legend.Legend at 0x7fa008892d10>"
            ]
          },
          "metadata": {},
          "execution_count": 79
        },
        {
          "output_type": "display_data",
          "data": {
            "image/png": "[encoded data removed]",
            "text/plain": [
              "<Figure size 720x720 with 2 Axes>"
            ]
          },
          "metadata": {
            "needs_background": "light"
          }
        }
      ]
    },
    {
      "cell_type": "markdown",
      "metadata": {
        "id": "A42pOtfiuwI1"
      },
      "source": [
        "## Testing of my_best_model will be done here\n",
        "\n",
        "Validation (once again) of the trained model is put here as placeholder (should work!), will be replaced with testing."
      ]
    },
    {
      "cell_type": "code",
      "metadata": {
        "colab": {
          "base_uri": "https://localhost:8080/"
        },
        "id": "vZOncbC_xjZe",
        "outputId": "cc856821-0504-43cf-867b-cee4afc58c71"
      },
      "source": [
        "valid_acc = 0.0\n",
        "for i, (images, labels) in enumerate(validloader, 0):\n",
        "    images = images.to(device)\n",
        "    labels = labels.to(device)\n",
        "    outputs = my_best_model(images)\n",
        "    valid_acc += get_accuracy(outputs, labels, BATCH_SIZE)\n",
        "\n",
        "valid_acc /= len(validloader)\n",
        "\n",
        "print('Validation Accuracy: %.4f' %(valid_acc)) "
      ],
      "execution_count": null,
      "outputs": [
        {
          "output_type": "stream",
          "name": "stdout",
          "text": [
            "Validation Accuracy: 0.6651\n"
          ]
        }
      ]
    }
  ]
}